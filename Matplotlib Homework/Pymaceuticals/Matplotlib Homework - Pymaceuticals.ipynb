{
 "cells": [
  {
   "cell_type": "markdown",
   "metadata": {},
   "source": [
    "# Matplotlib Homework - The Power of Plots "
   ]
  },
  {
   "cell_type": "markdown",
   "metadata": {},
   "source": [
    "## Observations\n",
    "1. Capomulin is the reasonable drug regimen that reduces the tumor growth over time.\n",
    "2. The average tumor volume increases with the mouse weight (strong positive correlation), and therefore the mouse weight   \n",
    "   effects the drug regimen effectiveness.\n",
    "3. Tumor Volume descreases over the time for the mouse l509 while for many others it increases.\n",
    "4. Capomulin & Remicane seems most progressive drug regimens for mouses over the time.\n"
   ]
  },
  {
   "cell_type": "code",
   "execution_count": 25,
   "metadata": {},
   "outputs": [
    {
     "data": {
      "text/html": [
       "<div>\n",
       "<style scoped>\n",
       "    .dataframe tbody tr th:only-of-type {\n",
       "        vertical-align: middle;\n",
       "    }\n",
       "\n",
       "    .dataframe tbody tr th {\n",
       "        vertical-align: top;\n",
       "    }\n",
       "\n",
       "    .dataframe thead th {\n",
       "        text-align: right;\n",
       "    }\n",
       "</style>\n",
       "<table border=\"1\" class=\"dataframe\">\n",
       "  <thead>\n",
       "    <tr style=\"text-align: right;\">\n",
       "      <th></th>\n",
       "      <th>Mouse ID</th>\n",
       "      <th>Timepoint</th>\n",
       "      <th>Tumor Volume (mm3)</th>\n",
       "      <th>Metastatic Sites</th>\n",
       "      <th>Drug Regimen</th>\n",
       "      <th>Sex</th>\n",
       "      <th>Age_months</th>\n",
       "      <th>Weight (g)</th>\n",
       "    </tr>\n",
       "  </thead>\n",
       "  <tbody>\n",
       "    <tr>\n",
       "      <th>0</th>\n",
       "      <td>b128</td>\n",
       "      <td>0</td>\n",
       "      <td>45.0</td>\n",
       "      <td>0</td>\n",
       "      <td>Capomulin</td>\n",
       "      <td>Female</td>\n",
       "      <td>9</td>\n",
       "      <td>22</td>\n",
       "    </tr>\n",
       "    <tr>\n",
       "      <th>1</th>\n",
       "      <td>f932</td>\n",
       "      <td>0</td>\n",
       "      <td>45.0</td>\n",
       "      <td>0</td>\n",
       "      <td>Ketapril</td>\n",
       "      <td>Male</td>\n",
       "      <td>15</td>\n",
       "      <td>29</td>\n",
       "    </tr>\n",
       "    <tr>\n",
       "      <th>2</th>\n",
       "      <td>g107</td>\n",
       "      <td>0</td>\n",
       "      <td>45.0</td>\n",
       "      <td>0</td>\n",
       "      <td>Ketapril</td>\n",
       "      <td>Female</td>\n",
       "      <td>2</td>\n",
       "      <td>29</td>\n",
       "    </tr>\n",
       "    <tr>\n",
       "      <th>3</th>\n",
       "      <td>a457</td>\n",
       "      <td>0</td>\n",
       "      <td>45.0</td>\n",
       "      <td>0</td>\n",
       "      <td>Ketapril</td>\n",
       "      <td>Female</td>\n",
       "      <td>11</td>\n",
       "      <td>30</td>\n",
       "    </tr>\n",
       "    <tr>\n",
       "      <th>4</th>\n",
       "      <td>c819</td>\n",
       "      <td>0</td>\n",
       "      <td>45.0</td>\n",
       "      <td>0</td>\n",
       "      <td>Ketapril</td>\n",
       "      <td>Male</td>\n",
       "      <td>21</td>\n",
       "      <td>25</td>\n",
       "    </tr>\n",
       "  </tbody>\n",
       "</table>\n",
       "</div>"
      ],
      "text/plain": [
       "  Mouse ID  Timepoint  Tumor Volume (mm3)  Metastatic Sites Drug Regimen  \\\n",
       "0     b128          0                45.0                 0    Capomulin   \n",
       "1     f932          0                45.0                 0     Ketapril   \n",
       "2     g107          0                45.0                 0     Ketapril   \n",
       "3     a457          0                45.0                 0     Ketapril   \n",
       "4     c819          0                45.0                 0     Ketapril   \n",
       "\n",
       "      Sex  Age_months  Weight (g)  \n",
       "0  Female           9          22  \n",
       "1    Male          15          29  \n",
       "2  Female           2          29  \n",
       "3  Female          11          30  \n",
       "4    Male          21          25  "
      ]
     },
     "execution_count": 25,
     "metadata": {},
     "output_type": "execute_result"
    }
   ],
   "source": [
    "# Dependencies and Setup\n",
    "import matplotlib.pyplot as plt\n",
    "import pandas as pd\n",
    "import scipy.stats as st\n",
    "import numpy as np\n",
    "\n",
    "# Study data files\n",
    "mouse_metadata = \"data/Mouse_metadata.csv\"\n",
    "study_results = \"data/Study_results.csv\"\n",
    "\n",
    "# Read the mouse data and the study results\n",
    "mouse_metadata = pd.read_csv(mouse_metadata)\n",
    "study_results = pd.read_csv(study_results)\n",
    "\n",
    "# Combine the data into a single dataset\n",
    "mouse_data_complete = pd.merge(study_results, mouse_metadata, on=\"Mouse ID\", how=\"left\")\n",
    "mouse_data_complete.head()"
   ]
  },
  {
   "cell_type": "markdown",
   "metadata": {},
   "source": [
    "## Summary statistics"
   ]
  },
  {
   "cell_type": "code",
   "execution_count": 26,
   "metadata": {},
   "outputs": [
    {
     "data": {
      "text/html": [
       "<div>\n",
       "<style scoped>\n",
       "    .dataframe tbody tr th:only-of-type {\n",
       "        vertical-align: middle;\n",
       "    }\n",
       "\n",
       "    .dataframe tbody tr th {\n",
       "        vertical-align: top;\n",
       "    }\n",
       "\n",
       "    .dataframe thead th {\n",
       "        text-align: right;\n",
       "    }\n",
       "</style>\n",
       "<table border=\"1\" class=\"dataframe\">\n",
       "  <thead>\n",
       "    <tr style=\"text-align: right;\">\n",
       "      <th></th>\n",
       "      <th>Mean Tumor Volume</th>\n",
       "      <th>Median Tumor Volume</th>\n",
       "      <th>Tumor Volume Variance</th>\n",
       "      <th>Tumor Volume Std. Dev.</th>\n",
       "      <th>Tumor Volume Std. Err.</th>\n",
       "    </tr>\n",
       "    <tr>\n",
       "      <th>Drug Regimen</th>\n",
       "      <th></th>\n",
       "      <th></th>\n",
       "      <th></th>\n",
       "      <th></th>\n",
       "      <th></th>\n",
       "    </tr>\n",
       "  </thead>\n",
       "  <tbody>\n",
       "    <tr>\n",
       "      <th>Capomulin</th>\n",
       "      <td>40.675741</td>\n",
       "      <td>41.557809</td>\n",
       "      <td>24.947764</td>\n",
       "      <td>4.994774</td>\n",
       "      <td>0.329346</td>\n",
       "    </tr>\n",
       "    <tr>\n",
       "      <th>Ceftamin</th>\n",
       "      <td>52.591172</td>\n",
       "      <td>51.776157</td>\n",
       "      <td>39.290177</td>\n",
       "      <td>6.268188</td>\n",
       "      <td>0.469821</td>\n",
       "    </tr>\n",
       "    <tr>\n",
       "      <th>Infubinol</th>\n",
       "      <td>52.884795</td>\n",
       "      <td>51.820584</td>\n",
       "      <td>43.128684</td>\n",
       "      <td>6.567243</td>\n",
       "      <td>0.492236</td>\n",
       "    </tr>\n",
       "    <tr>\n",
       "      <th>Ketapril</th>\n",
       "      <td>55.235638</td>\n",
       "      <td>53.698743</td>\n",
       "      <td>68.553577</td>\n",
       "      <td>8.279709</td>\n",
       "      <td>0.603860</td>\n",
       "    </tr>\n",
       "    <tr>\n",
       "      <th>Naftisol</th>\n",
       "      <td>54.331565</td>\n",
       "      <td>52.509285</td>\n",
       "      <td>66.173479</td>\n",
       "      <td>8.134708</td>\n",
       "      <td>0.596466</td>\n",
       "    </tr>\n",
       "    <tr>\n",
       "      <th>Placebo</th>\n",
       "      <td>54.033581</td>\n",
       "      <td>52.288934</td>\n",
       "      <td>61.168083</td>\n",
       "      <td>7.821003</td>\n",
       "      <td>0.581331</td>\n",
       "    </tr>\n",
       "    <tr>\n",
       "      <th>Propriva</th>\n",
       "      <td>52.322552</td>\n",
       "      <td>50.854632</td>\n",
       "      <td>42.351070</td>\n",
       "      <td>6.507770</td>\n",
       "      <td>0.512884</td>\n",
       "    </tr>\n",
       "    <tr>\n",
       "      <th>Ramicane</th>\n",
       "      <td>40.216745</td>\n",
       "      <td>40.673236</td>\n",
       "      <td>23.486704</td>\n",
       "      <td>4.846308</td>\n",
       "      <td>0.320955</td>\n",
       "    </tr>\n",
       "    <tr>\n",
       "      <th>Stelasyn</th>\n",
       "      <td>54.233149</td>\n",
       "      <td>52.431737</td>\n",
       "      <td>59.450562</td>\n",
       "      <td>7.710419</td>\n",
       "      <td>0.573111</td>\n",
       "    </tr>\n",
       "    <tr>\n",
       "      <th>Zoniferol</th>\n",
       "      <td>53.236507</td>\n",
       "      <td>51.818479</td>\n",
       "      <td>48.533355</td>\n",
       "      <td>6.966589</td>\n",
       "      <td>0.516398</td>\n",
       "    </tr>\n",
       "  </tbody>\n",
       "</table>\n",
       "</div>"
      ],
      "text/plain": [
       "              Mean Tumor Volume  Median Tumor Volume  Tumor Volume Variance  \\\n",
       "Drug Regimen                                                                  \n",
       "Capomulin             40.675741            41.557809              24.947764   \n",
       "Ceftamin              52.591172            51.776157              39.290177   \n",
       "Infubinol             52.884795            51.820584              43.128684   \n",
       "Ketapril              55.235638            53.698743              68.553577   \n",
       "Naftisol              54.331565            52.509285              66.173479   \n",
       "Placebo               54.033581            52.288934              61.168083   \n",
       "Propriva              52.322552            50.854632              42.351070   \n",
       "Ramicane              40.216745            40.673236              23.486704   \n",
       "Stelasyn              54.233149            52.431737              59.450562   \n",
       "Zoniferol             53.236507            51.818479              48.533355   \n",
       "\n",
       "              Tumor Volume Std. Dev.  Tumor Volume Std. Err.  \n",
       "Drug Regimen                                                  \n",
       "Capomulin                   4.994774                0.329346  \n",
       "Ceftamin                    6.268188                0.469821  \n",
       "Infubinol                   6.567243                0.492236  \n",
       "Ketapril                    8.279709                0.603860  \n",
       "Naftisol                    8.134708                0.596466  \n",
       "Placebo                     7.821003                0.581331  \n",
       "Propriva                    6.507770                0.512884  \n",
       "Ramicane                    4.846308                0.320955  \n",
       "Stelasyn                    7.710419                0.573111  \n",
       "Zoniferol                   6.966589                0.516398  "
      ]
     },
     "execution_count": 26,
     "metadata": {},
     "output_type": "execute_result"
    }
   ],
   "source": [
    "# Generate a summary statistics table of mean, median, variance, standard deviation, and SEM of the tumor volume for each regimen\n",
    "\n",
    "# Groupby - Drug Regimen\n",
    "mouse_data_complete_grouped = mouse_data_complete.groupby('Drug Regimen')\n",
    "\n",
    "# Applying aggregate functions\n",
    "mouse_data_statistics_tumorvolume = mouse_data_complete_grouped['Tumor Volume (mm3)'].agg([np.mean, np.median, np.var, np.std, st.sem])\n",
    "\n",
    "# Renaming column names\n",
    "mouse_data_statistics_tumorvolume_formatted = mouse_data_statistics_tumorvolume.rename(columns={'mean':'Mean Tumor Volume','median':'Median Tumor Volume','var':'Tumor Volume Variance','std':'Tumor Volume Std. Dev.','sem':'Tumor Volume Std. Err.'})\n",
    "\n",
    "# Displaying summary statistics table\n",
    "mouse_data_statistics_tumorvolume_formatted"
   ]
  },
  {
   "cell_type": "markdown",
   "metadata": {},
   "source": [
    "## Bar plots"
   ]
  },
  {
   "cell_type": "code",
   "execution_count": 27,
   "metadata": {},
   "outputs": [
    {
     "data": {
      "text/plain": [
       "Text(0, 0.5, 'Number of Data Points')"
      ]
     },
     "execution_count": 27,
     "metadata": {},
     "output_type": "execute_result"
    },
    {
     "data": {
      "image/png": "[encoded data removed]",
      "text/plain": [
       "<Figure size 432x288 with 1 Axes>"
      ]
     },
     "metadata": {
      "needs_background": "light"
     },
     "output_type": "display_data"
    }
   ],
   "source": [
    "# Generate a bar plot showing number of data points for each treatment regimen using pandas\n",
    "\n",
    "mouse_data_statistics_tumorvolume_count = mouse_data_complete_grouped['Tumor Volume (mm3)'].count()\n",
    "mouse_data_statistics_tumorvolume_count = mouse_data_statistics_tumorvolume_count.sort_values(ascending=False)\n",
    "\n",
    "pandas_plot_mean = mouse_data_statistics_tumorvolume_count.plot(kind = 'bar',title ='Drug Regimen vs Count (Tumor Volume)' )\n",
    "pandas_plot_mean.set_ylabel(\"Number of Data Points\")\n"
   ]
  },
  {
   "cell_type": "code",
   "execution_count": 28,
   "metadata": {},
   "outputs": [
    {
     "data": {
      "text/plain": [
       "([<matplotlib.axis.XTick at 0x271ab7b6630>,\n",
       "  <matplotlib.axis.XTick at 0x271aa63bdd8>,\n",
       "  <matplotlib.axis.XTick at 0x271ab7747f0>,\n",
       "  <matplotlib.axis.XTick at 0x271ab747c88>,\n",
       "  <matplotlib.axis.XTick at 0x271ab8300f0>,\n",
       "  <matplotlib.axis.XTick at 0x271ab830588>,\n",
       "  <matplotlib.axis.XTick at 0x271ab830780>,\n",
       "  <matplotlib.axis.XTick at 0x271ab830c50>,\n",
       "  <matplotlib.axis.XTick at 0x271ab83f198>,\n",
       "  <matplotlib.axis.XTick at 0x271ab83f630>],\n",
       " <a list of 10 Text xticklabel objects>)"
      ]
     },
     "execution_count": 28,
     "metadata": {},
     "output_type": "execute_result"
    },
    {
     "data": {
      "image/png": "[encoded data removed]",
      "text/plain": [
       "<Figure size 432x288 with 1 Axes>"
      ]
     },
     "metadata": {
      "needs_background": "light"
     },
     "output_type": "display_data"
    }
   ],
   "source": [
    "# Generate a bar plot showing number of data points for each treatment regimen using pyplot\n",
    "\n",
    "mouse_data_statistics_tumorvolume_count_reset_index = mouse_data_statistics_tumorvolume_count.reset_index()\n",
    "drug_regimen = mouse_data_statistics_tumorvolume_count_reset_index['Drug Regimen']\n",
    "\n",
    "x_axis = np.arange(0,len(drug_regimen),1)\n",
    "y_axis = mouse_data_statistics_tumorvolume_count\n",
    "\n",
    "plt.xlabel(\"Drug Regimen\")\n",
    "plt.ylabel(\"Number of Data Points\\n\")\n",
    "plt.title('\\nDrug Regimen vs Count (Tumor Volume)\\n')\n",
    "\n",
    "plt.bar( x_axis, y_axis )\n",
    "plt.xticks(x_axis, drug_regimen, rotation=\"vertical\")\n"
   ]
  },
  {
   "cell_type": "markdown",
   "metadata": {},
   "source": [
    "## Pie plots"
   ]
  },
  {
   "cell_type": "code",
   "execution_count": 29,
   "metadata": {},
   "outputs": [
    {
     "data": {
      "text/plain": [
       "Text(0, 0.5, 'Sex')"
      ]
     },
     "execution_count": 29,
     "metadata": {},
     "output_type": "execute_result"
    },
    {
     "data": {
      "image/png": "[encoded data removed]",
      "text/plain": [
       "<Figure size 432x288 with 1 Axes>"
      ]
     },
     "metadata": {},
     "output_type": "display_data"
    }
   ],
   "source": [
    "# Generate a pie plot showing the distribution of female versus male mice using pandas\n",
    "\n",
    "labels=['Female','Male']\n",
    "explode = [0,0.1]\n",
    "colors = ['Pink','Green']\n",
    "\n",
    "mouse_metadata_grouped_sex = mouse_metadata.groupby('Sex')\n",
    "mouse_sex_count = mouse_metadata_grouped_sex['Mouse ID'].count()\n",
    "\n",
    "pandas_plot_sex = mouse_sex_count.plot(kind=\"pie\", shadow=True, autopct=\"%1.1f%%\", startangle=180, colors=colors, title = \"Distribution of female mice versus male mice\")\n",
    "pandas_plot_sex.set_ylabel('Sex')\n"
   ]
  },
  {
   "cell_type": "code",
   "execution_count": 30,
   "metadata": {},
   "outputs": [
    {
     "data": {
      "text/plain": [
       "Text(0, 0.5, 'Sex')"
      ]
     },
     "execution_count": 30,
     "metadata": {},
     "output_type": "execute_result"
    },
    {
     "data": {
      "image/png": "[encoded data removed]",
      "text/plain": [
       "<Figure size 432x288 with 1 Axes>"
      ]
     },
     "metadata": {},
     "output_type": "display_data"
    }
   ],
   "source": [
    "# Generate a pie plot showing the distribution of female versus male mice using pyplot\n",
    "\n",
    "plt.pie(mouse_sex_count, labels = labels, autopct=\"%1.1f%%\", shadow=True, startangle=180, colors = colors)\n",
    "plt.title(\"Distribution of female mice versus male mice\")\n",
    "plt.ylabel('Sex')\n"
   ]
  },
  {
   "cell_type": "markdown",
   "metadata": {},
   "source": [
    "## Quartiles, Outliers and Boxplots"
   ]
  },
  {
   "cell_type": "code",
   "execution_count": 31,
   "metadata": {},
   "outputs": [
    {
     "name": "stdout",
     "output_type": "stream",
     "text": [
      "Capomulin potential outliers:\n",
      "\n",
      "The lower quartile : 32.37735684\n",
      "The upper quartile : 40.1592203\n",
      "The interquartile range : 7.781863460000004\n",
      "\n",
      "Values below 20.7 could be outliers.\n",
      "Values above 51.83 could be outliers.\n"
     ]
    }
   ],
   "source": [
    "# Calculate the final tumor volume of each mouse across four of the most promising treatment regimens.  \n",
    "\n",
    "\n",
    "# Grouping on Mouse ID and finding last timepoint\n",
    "mouse_data_complete_grouped= mouse_data_complete.groupby(['Mouse ID'])\n",
    "mouse_data_complete_maxtime_df = mouse_data_complete_grouped.max()['Timepoint']\n",
    "mouse_data_complete_maxtime_df_reset = mouse_data_complete_maxtime_df.reset_index()\n",
    "merged_df = pd.merge(mouse_data_complete_maxtime_df_reset, mouse_data_complete, on=['Mouse ID','Timepoint'])\n",
    "\n",
    "\n",
    "# Final Tumor Volume - Drug Regimen - Capomulin\n",
    "merged_df_drug = merged_df.loc[(merged_df['Drug Regimen'] == 'Capomulin'), : ]\n",
    "final_tumor_Capomulin = merged_df_drug['Tumor Volume (mm3)']\n",
    "\n",
    "\n",
    "# Calculate the quartiles, IQR and quantitatively determine if there are any potential outliers.\n",
    "\n",
    "print(\"Capomulin potential outliers:\\n\")\n",
    "quartiles = final_tumor_Capomulin.quantile([.25,.5,.75])\n",
    "lowerq = quartiles[0.25]\n",
    "upperq = quartiles[0.75]\n",
    "iqr = upperq-lowerq\n",
    "\n",
    "print(f\"The lower quartile : {lowerq}\")\n",
    "print(f\"The upper quartile : {upperq}\")\n",
    "print(f\"The interquartile range : {iqr}\")\n",
    "\n",
    "lower_bound = lowerq - (1.5*iqr)\n",
    "upper_bound = upperq + (1.5*iqr)\n",
    "print(f\"\\nValues below {round(lower_bound,2)} could be outliers.\")\n",
    "print(f\"Values above {round(upper_bound,2)} could be outliers.\")"
   ]
  },
  {
   "cell_type": "code",
   "execution_count": 32,
   "metadata": {},
   "outputs": [
    {
     "name": "stdout",
     "output_type": "stream",
     "text": [
      "Ramicane potential outliers:\n",
      "\n",
      "The lower quartile : 31.56046955\n",
      "The upper quartile : 40.65900627\n",
      "The interquartile range : 9.098536719999998\n",
      "\n",
      "Values below 17.91 could be outliers.\n",
      "Values above 54.31 could be outliers.\n"
     ]
    }
   ],
   "source": [
    "# Final Tumor Volume - Drug Regimen - Ramicane\n",
    "merged_df_drug = merged_df.loc[(merged_df['Drug Regimen'] == 'Ramicane'), : ]\n",
    "final_tumor_Ramicane = merged_df_drug['Tumor Volume (mm3)']\n",
    "\n",
    "\n",
    "# Calculate the quartiles, IQR and quantitatively determine if there are any potential outliers.\n",
    "\n",
    "print(\"Ramicane potential outliers:\\n\")\n",
    "quartiles = final_tumor_Ramicane.quantile([.25,.5,.75])\n",
    "lowerq = quartiles[0.25]\n",
    "upperq = quartiles[0.75]\n",
    "iqr = upperq-lowerq\n",
    "\n",
    "print(f\"The lower quartile : {lowerq}\")\n",
    "print(f\"The upper quartile : {upperq}\")\n",
    "print(f\"The interquartile range : {iqr}\")\n",
    "\n",
    "lower_bound = lowerq - (1.5*iqr)\n",
    "upper_bound = upperq + (1.5*iqr)\n",
    "print(f\"\\nValues below {round(lower_bound,2)} could be outliers.\")\n",
    "print(f\"Values above {round(upper_bound,2)} could be outliers.\")\n"
   ]
  },
  {
   "cell_type": "code",
   "execution_count": 33,
   "metadata": {},
   "outputs": [
    {
     "name": "stdout",
     "output_type": "stream",
     "text": [
      "Infubinol potential outliers:\n",
      "\n",
      "The lower quartile : 54.04860769\n",
      "The upper quartile : 65.52574285\n",
      "The interquartile range : 11.477135160000003\n",
      "\n",
      "Values below 36.83 could be outliers.\n",
      "Values above 82.74 could be outliers.\n"
     ]
    }
   ],
   "source": [
    "# Final Tumor Volume - Drug Regimen - Infubinol\n",
    "merged_df_drug = merged_df.loc[(merged_df['Drug Regimen'] == 'Infubinol'), : ]\n",
    "final_tumor_Infubinol= merged_df_drug['Tumor Volume (mm3)']\n",
    "\n",
    "\n",
    "# Calculate the quartiles, IQR and quantitatively determine if there are any potential outliers.\n",
    "\n",
    "print(\"Infubinol potential outliers:\\n\")\n",
    "quartiles = final_tumor_Infubinol.quantile([.25,.5,.75])\n",
    "lowerq = quartiles[0.25]\n",
    "upperq = quartiles[0.75]\n",
    "iqr = upperq-lowerq\n",
    "\n",
    "print(f\"The lower quartile : {lowerq}\")\n",
    "print(f\"The upper quartile : {upperq}\")\n",
    "print(f\"The interquartile range : {iqr}\")\n",
    "\n",
    "lower_bound = lowerq - (1.5*iqr)\n",
    "upper_bound = upperq + (1.5*iqr)\n",
    "print(f\"\\nValues below {round(lower_bound,2)} could be outliers.\")\n",
    "print(f\"Values above {round(upper_bound,2)} could be outliers.\")\n"
   ]
  },
  {
   "cell_type": "code",
   "execution_count": 34,
   "metadata": {},
   "outputs": [
    {
     "name": "stdout",
     "output_type": "stream",
     "text": [
      "Ceftamin potential outliers:\n",
      "\n",
      "The lower quartile : 48.72207785\n",
      "The upper quartile : 64.29983003\n",
      "The interquartile range : 15.577752179999997\n",
      "\n",
      "Values below 25.36 could be outliers.\n",
      "Values above 87.67 could be outliers.\n"
     ]
    }
   ],
   "source": [
    "# Final tumor Volume - Drug Regimen - Ceftamin\n",
    "merged_df_drug = merged_df.loc[(merged_df['Drug Regimen'] == 'Ceftamin'), : ]\n",
    "final_tumor_Ceftamin = merged_df_drug['Tumor Volume (mm3)']\n",
    "\n",
    "\n",
    "# Calculate the quartiles, IQR and quantitatively determine if there are any potential outliers.\n",
    "\n",
    "print(\"Ceftamin potential outliers:\\n\")\n",
    "quartiles = final_tumor_Ceftamin.quantile([.25,.5,.75])\n",
    "lowerq = quartiles[0.25]\n",
    "upperq = quartiles[0.75]\n",
    "iqr = upperq-lowerq\n",
    "\n",
    "print(f\"The lower quartile : {lowerq}\")\n",
    "print(f\"The upper quartile : {upperq}\")\n",
    "print(f\"The interquartile range : {iqr}\")\n",
    "\n",
    "lower_bound = lowerq - (1.5*iqr)\n",
    "upper_bound = upperq + (1.5*iqr)\n",
    "print(f\"\\nValues below {round(lower_bound,2)} could be outliers.\")\n",
    "print(f\"Values above {round(upper_bound,2)} could be outliers.\")\n"
   ]
  },
  {
   "cell_type": "code",
   "execution_count": 36,
   "metadata": {},
   "outputs": [
    {
     "data": {
      "image/png": "[encoded data removed]",
      "text/plain": [
       "<Figure size 432x288 with 1 Axes>"
      ]
     },
     "metadata": {
      "needs_background": "light"
     },
     "output_type": "display_data"
    }
   ],
   "source": [
    "# Generate a box plot of the final tumor volume of each mouse across four regimens of interest\n",
    "\n",
    "plt.title('\\nBox Plot of final tumor volume for all four treatment regimens\\n')\n",
    "plt.ylabel('Final Tumor Volume (mm3)\\n')\n",
    "plt.xlabel('\\nDrug Regimen')\n",
    "\n",
    "red_circle = dict(markerfacecolor='r', marker='o', markersize=12)\n",
    "\n",
    "data = [final_tumor_Capomulin, final_tumor_Ramicane, final_tumor_Infubinol, final_tumor_Ceftamin ]\n",
    "\n",
    "labels = ['Capomulin', 'Ramicane', 'Infubinol', 'Ceftamin']\n",
    "\n",
    "plt.boxplot(data, flierprops = red_circle, labels=labels)\n",
    "plt.show()\n"
   ]
  },
  {
   "cell_type": "markdown",
   "metadata": {},
   "source": [
    "## Line and scatter plots"
   ]
  },
  {
   "cell_type": "code",
   "execution_count": 37,
   "metadata": {},
   "outputs": [
    {
     "data": {
      "image/png": "[encoded data removed]",
      "text/plain": [
       "<Figure size 432x288 with 1 Axes>"
      ]
     },
     "metadata": {
      "needs_background": "light"
     },
     "output_type": "display_data"
    }
   ],
   "source": [
    "# Generate a line plot of time point versus tumor volume for a mouse treated with Capomulin\n",
    "\n",
    "mouseid = 'l509'\n",
    "single_mouse_study_data = study_results.loc[study_results['Mouse ID'] == mouseid, ['Timepoint','Tumor Volume (mm3)']]\n",
    "\n",
    "plt.xlabel('Timepoint (Days)')\n",
    "plt.ylabel('Tumor Volume (mm3)')\n",
    "plt.title('Capomulin Treatemnt of mouse l509')\n",
    "\n",
    "plt.plot(single_mouse_study_data['Timepoint'] , single_mouse_study_data['Tumor Volume (mm3)'] )\n",
    "plt.show()"
   ]
  },
  {
   "cell_type": "code",
   "execution_count": 38,
   "metadata": {},
   "outputs": [
    {
     "data": {
      "image/png": "[encoded data removed]",
      "text/plain": [
       "<Figure size 432x288 with 1 Axes>"
      ]
     },
     "metadata": {
      "needs_background": "light"
     },
     "output_type": "display_data"
    }
   ],
   "source": [
    "# Generate a scatter plot of mouse weight versus average tumor volume for the Capomulin regimen\n",
    "\n",
    "Capomulin_data = mouse_data_complete.loc[mouse_data_complete['Drug Regimen'] == 'Capomulin' , ['Mouse ID','Tumor Volume (mm3)', 'Weight (g)']]\n",
    "\n",
    "Capomulin_data_grouped = Capomulin_data.groupby('Mouse ID').mean()\n",
    "\n",
    "plt.xlabel('Weight (g)')\n",
    "plt.ylabel('Average Tumor Volume (mm3)')\n",
    "plt.title(\"\\nMouse weight versus Average Tumor Volume for the Capomulin regimen\\n\")\n",
    "\n",
    "weight  = Capomulin_data_grouped['Weight (g)']\n",
    "avg_tumor_volume = Capomulin_data_grouped['Tumor Volume (mm3)']\n",
    "\n",
    "plt.scatter( weight , avg_tumor_volume )\n",
    "plt.show()"
   ]
  },
  {
   "cell_type": "code",
   "execution_count": 39,
   "metadata": {},
   "outputs": [
    {
     "name": "stdout",
     "output_type": "stream",
     "text": [
      "\n",
      "The correlation between mouse weight and the average tumor volume is 0.84 \n",
      "\n"
     ]
    },
    {
     "data": {
      "image/png": "[encoded data removed]",
      "text/plain": [
       "<Figure size 432x288 with 1 Axes>"
      ]
     },
     "metadata": {
      "needs_background": "light"
     },
     "output_type": "display_data"
    }
   ],
   "source": [
    "# Calculate the correlation coefficient and linear regression model for mouse weight and average tumor volume for the Capomulin regimen\n",
    "\n",
    "\n",
    "'''Correlation Coefficient'''\n",
    "\n",
    "correlation = st.pearsonr( weight , avg_tumor_volume )\n",
    "print(f\"\\nThe correlation between mouse weight and the average tumor volume is {round(correlation[0],2)} \\n\")\n",
    "\n",
    "\n",
    "'''Linear Regression Model'''\n",
    "\n",
    "(slope, intercept, rvalue, pvalue, stderr) = st.linregress(weight, avg_tumor_volume)\n",
    "regress_values = weight * slope + intercept\n",
    "line_eq = \"y = \" + str(round(slope,2)) + \"x + \" + str(round(intercept,2))\n",
    "\n",
    "\n",
    "'''Plotting the linear regression model'''\n",
    "\n",
    "plt.xlabel('\\nWeight (g)')\n",
    "plt.ylabel('Average Tumor Volume (mm3)\\n')\n",
    "plt.title(\"Mouse weight versus Average Tumor Volume for the Capomulin regimen\\n\")\n",
    "\n",
    "plt.scatter( weight , avg_tumor_volume )\n",
    "plt.plot(weight,regress_values,\"r-\")\n",
    "plt.show()"
   ]
  },
  {
   "cell_type": "code",
   "execution_count": null,
   "metadata": {},
   "outputs": [],
   "source": []
  }
 ],
 "metadata": {
  "anaconda-cloud": {},
  "kernelspec": {
   "display_name": "Python 3",
   "language": "python",
   "name": "python3"
  },
  "language_info": {
   "codemirror_mode": {
    "name": "ipython",
    "version": 3
   },
   "file_extension": ".py",
   "mimetype": "text/x-python",
   "name": "python",
   "nbconvert_exporter": "python",
   "pygments_lexer": "ipython3",
   "version": "3.7.1"
  }
 },
 "nbformat": 4,
 "nbformat_minor": 2
}
